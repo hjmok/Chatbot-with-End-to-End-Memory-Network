{
  "nbformat": 4,
  "nbformat_minor": 0,
  "metadata": {
    "colab": {
      "name": "Chatbot Github.ipynb",
      "provenance": [],
      "collapsed_sections": [],
      "toc_visible": true
    },
    "kernelspec": {
      "name": "python3",
      "display_name": "Python 3"
    }
  },
  "cells": [
    {
      "cell_type": "markdown",
      "metadata": {
        "id": "OlLJ78ohEhV9"
      },
      "source": [
        "# **Part 1 - Data Preprocessing**"
      ]
    },
    {
      "cell_type": "code",
      "metadata": {
        "id": "5Bs81Hvh9tRF"
      },
      "source": [
        "import pickle\r\n",
        "import matplotlib.pyplot as plt\r\n",
        "import numpy as np\r\n",
        "from keras.preprocessing.text import Tokenizer\r\n",
        "from keras.layers import Input, Activation, Dense, Permute, Dropout, add, dot, concatenate, LSTM\r\n",
        "from keras.preprocessing.sequence import pad_sequences\r\n",
        "from keras.models import Sequential, Model\r\n",
        "from keras.layers.embeddings import Embedding"
      ],
      "execution_count": 1,
      "outputs": []
    },
    {
      "cell_type": "markdown",
      "metadata": {
        "id": "cnwJAfJ3GG2c"
      },
      "source": [
        "**1.1 Loading the Data**"
      ]
    },
    {
      "cell_type": "code",
      "metadata": {
        "id": "JzirYdsCEmWl",
        "colab": {
          "base_uri": "https://localhost:8080/"
        },
        "outputId": "97be16a8-d94b-4206-db66-b6b70200ec67"
      },
      "source": [
        "with open('train_qa.txt', 'rb') as f:\r\n",
        "  train_data = pickle.load(f) #using pickle to load in the training file, read in as binary\r\n",
        "\r\n",
        "with open('test_qa.txt', 'rb') as f:\r\n",
        "  test_data = pickle.load(f) #using pickle to load in the test file, read in as binary\r\n",
        "\r\n",
        "type(train_data) #see it's a list"
      ],
      "execution_count": 2,
      "outputs": [
        {
          "output_type": "execute_result",
          "data": {
            "text/plain": [
              "list"
            ]
          },
          "metadata": {
            "tags": []
          },
          "execution_count": 2
        }
      ]
    },
    {
      "cell_type": "code",
      "metadata": {
        "colab": {
          "base_uri": "https://localhost:8080/"
        },
        "id": "fr4QptJJFIY3",
        "outputId": "663a87c3-6346-4aa8-c72b-1cfd5e4a3dcb"
      },
      "source": [
        "print(len(train_data)) #10000 data points broken up into story,question,answer\r\n",
        "print(len(test_data)) #1000 data points broken up into story,question,answer"
      ],
      "execution_count": 3,
      "outputs": [
        {
          "output_type": "stream",
          "text": [
            "10000\n",
            "1000\n"
          ],
          "name": "stdout"
        }
      ]
    },
    {
      "cell_type": "code",
      "metadata": {
        "colab": {
          "base_uri": "https://localhost:8080/"
        },
        "id": "mZ9kKiIlFWsQ",
        "outputId": "3341199f-390c-460c-b91b-b11b09aef0b0"
      },
      "source": [
        "#so here we can see this tuple has 3 main components: story, question, answer\r\n",
        "print(' '.join(train_data[0][0])) #index 0 is the story\r\n",
        "print(' '.join(train_data[0][1])) #index 1 is the question\r\n",
        "print(train_data[0][2]) #index 2 is the answer"
      ],
      "execution_count": 4,
      "outputs": [
        {
          "output_type": "stream",
          "text": [
            "Mary moved to the bathroom . Sandra journeyed to the bedroom .\n",
            "Is Sandra in the hallway ?\n",
            "no\n"
          ],
          "name": "stdout"
        }
      ]
    },
    {
      "cell_type": "code",
      "metadata": {
        "colab": {
          "base_uri": "https://localhost:8080/"
        },
        "id": "_saaTUQHHygV",
        "outputId": "dcfd9f22-2686-44e8-d273-45fbfc7513bf"
      },
      "source": [
        "#Next step we'll want to grab all the unique words\r\n",
        "all_data = test_data + train_data #concatenating our test data with our train data\r\n",
        "all_data_np = np.array(all_data) #converting all our data into a numpy array\r\n",
        "all_data_np.shape #notice the shape of the numpy array is 11000 rows (10000 train + 1000 test data points) and 3 columns (story, question, answer)"
      ],
      "execution_count": 5,
      "outputs": [
        {
          "output_type": "stream",
          "text": [
            "/usr/local/lib/python3.6/dist-packages/ipykernel_launcher.py:3: VisibleDeprecationWarning: Creating an ndarray from ragged nested sequences (which is a list-or-tuple of lists-or-tuples-or ndarrays with different lengths or shapes) is deprecated. If you meant to do this, you must specify 'dtype=object' when creating the ndarray\n",
            "  This is separate from the ipykernel package so we can avoid doing imports until\n"
          ],
          "name": "stderr"
        },
        {
          "output_type": "execute_result",
          "data": {
            "text/plain": [
              "(11000, 3)"
            ]
          },
          "metadata": {
            "tags": []
          },
          "execution_count": 5
        }
      ]
    },
    {
      "cell_type": "markdown",
      "metadata": {
        "id": "vBAII3MnGmqM"
      },
      "source": [
        "**1.2 Grabbing the Vocabulary**"
      ]
    },
    {
      "cell_type": "code",
      "metadata": {
        "id": "Oi4uEVNDGDU1"
      },
      "source": [
        "vocab = set() #initializing vocab. set removes duplicates and only returns each distinct element once \r\n",
        "\r\n",
        "#Now we're going to grab all the unique vocabulary\r\n",
        "for story, question, answer in all_data:\r\n",
        "  vocab = vocab.union(set(story)) #set removes duplicates\r\n",
        "  vocab = vocab.union(set(question)) #union just allows us to join the different sets together. So far, we have a set for story and an initialized set, so now we're using union to add our question set to vocab. https://www.w3schools.com/python/ref_set_union.asp\r\n",
        "\r\n",
        "vocab.add('no')\r\n",
        "vocab.add('yes')"
      ],
      "execution_count": 6,
      "outputs": []
    },
    {
      "cell_type": "code",
      "metadata": {
        "colab": {
          "base_uri": "https://localhost:8080/"
        },
        "id": "s89AKa4BHZms",
        "outputId": "1baa13e8-ec7f-4c08-fad6-304d971fe750"
      },
      "source": [
        "print(' '.join(vocab)) #showing all the different vocabulary in one line\r\n",
        "print(len(vocab)) #see how there are only 37 unique words in total\r\n",
        "#note that means when creating new sentences and predictions, only these 37 words can be used. No new words can be introduced, as the model was not trained on them"
      ],
      "execution_count": 7,
      "outputs": [
        {
          "output_type": "stream",
          "text": [
            "football moved Is no . left up in milk kitchen John yes got grabbed dropped Mary to discarded bathroom took Sandra garden office there put went bedroom travelled down journeyed the apple Daniel hallway ? back picked\n",
            "37\n"
          ],
          "name": "stdout"
        }
      ]
    },
    {
      "cell_type": "code",
      "metadata": {
        "colab": {
          "base_uri": "https://localhost:8080/"
        },
        "id": "QGou9pmdflxW",
        "outputId": "e3dcac05-3a97-44de-b536-c01b33297b26"
      },
      "source": [
        "vocab_size = len(vocab) + 1 #adding 1 cuz keras padding needs an extra one to hold a zero\r\n",
        "vocab_size"
      ],
      "execution_count": 8,
      "outputs": [
        {
          "output_type": "execute_result",
          "data": {
            "text/plain": [
              "38"
            ]
          },
          "metadata": {
            "tags": []
          },
          "execution_count": 8
        }
      ]
    },
    {
      "cell_type": "markdown",
      "metadata": {
        "id": "2N8mXF1SIi9W"
      },
      "source": [
        "**1.3 Longest Story and Longest Question**"
      ]
    },
    {
      "cell_type": "code",
      "metadata": {
        "colab": {
          "base_uri": "https://localhost:8080/"
        },
        "id": "PMBFyZzlIW6n",
        "outputId": "e88b7aca-7744-4c0f-9b65-9f343ec5e2a3"
      },
      "source": [
        "#Longest Story\r\n",
        "all_story_lens = [len(data[0]) for data in all_data] #data[0] is the story, data[1] is the question, data[2] is the answer\r\n",
        "max_story_len = max(all_story_lens) \r\n",
        "max_story_len #156 is the longest story\r\n",
        "\r\n",
        "#so we need the longest length because the RNN requires the text inputs to be the same length. As such, for the shorter stories, we'll use padding sequences to pad the text with 0s until it reaches the max story length"
      ],
      "execution_count": 9,
      "outputs": [
        {
          "output_type": "execute_result",
          "data": {
            "text/plain": [
              "156"
            ]
          },
          "metadata": {
            "tags": []
          },
          "execution_count": 9
        }
      ]
    },
    {
      "cell_type": "code",
      "metadata": {
        "colab": {
          "base_uri": "https://localhost:8080/"
        },
        "id": "kBFe3j4yJEyx",
        "outputId": "6944339a-2929-4c62-be3a-31d00777add6"
      },
      "source": [
        "#Longest Question\r\n",
        "all_question_lens = [len(question) for story, question, answer in all_data] #could've also just used tuple unpacking in contrast to above\r\n",
        "max_question_len = max(all_question_lens) \r\n",
        "max_question_len #6 is the longest question\r\n",
        "\r\n",
        "#so we need the longest length because the RNN requires the text inputs to be the same length. As such, for the shorter questions, we'll use padding sequences to pad the text with 0s until it reaches the max question length"
      ],
      "execution_count": 10,
      "outputs": [
        {
          "output_type": "execute_result",
          "data": {
            "text/plain": [
              "6"
            ]
          },
          "metadata": {
            "tags": []
          },
          "execution_count": 10
        }
      ]
    },
    {
      "cell_type": "markdown",
      "metadata": {
        "id": "3l3ZR0uMbf_a"
      },
      "source": [
        "# **Part 2 - Vectorizing the Data**"
      ]
    },
    {
      "cell_type": "markdown",
      "metadata": {
        "id": "yywXYGhleUyI"
      },
      "source": [
        "**2.1 Tokenizing Data**"
      ]
    },
    {
      "cell_type": "code",
      "metadata": {
        "id": "2kcuAagmJVZP",
        "colab": {
          "base_uri": "https://localhost:8080/"
        },
        "outputId": "065003cf-8466-46c2-dc18-4356b0b061f3"
      },
      "source": [
        "#creating an integer encoding our sequence of words\r\n",
        "tokenizer = Tokenizer(filters=[]) #creating an instance of our tokenizer imported above\r\n",
        "tokenizer.fit_on_texts(vocab) #tokenizing our vocabulator. fitting our vocabulary to the tokenizer, so each word will be assigned a token number \r\n",
        "\r\n",
        "tokenizer.word_index #dictionary of the word and index, words are all automatically lowercased for us too now"
      ],
      "execution_count": 11,
      "outputs": [
        {
          "output_type": "execute_result",
          "data": {
            "text/plain": [
              "{'.': 5,\n",
              " '?': 35,\n",
              " 'apple': 32,\n",
              " 'back': 36,\n",
              " 'bathroom': 19,\n",
              " 'bedroom': 27,\n",
              " 'daniel': 33,\n",
              " 'discarded': 18,\n",
              " 'down': 29,\n",
              " 'dropped': 15,\n",
              " 'football': 1,\n",
              " 'garden': 22,\n",
              " 'got': 13,\n",
              " 'grabbed': 14,\n",
              " 'hallway': 34,\n",
              " 'in': 8,\n",
              " 'is': 3,\n",
              " 'john': 11,\n",
              " 'journeyed': 30,\n",
              " 'kitchen': 10,\n",
              " 'left': 6,\n",
              " 'mary': 16,\n",
              " 'milk': 9,\n",
              " 'moved': 2,\n",
              " 'no': 4,\n",
              " 'office': 23,\n",
              " 'picked': 37,\n",
              " 'put': 25,\n",
              " 'sandra': 21,\n",
              " 'the': 31,\n",
              " 'there': 24,\n",
              " 'to': 17,\n",
              " 'took': 20,\n",
              " 'travelled': 28,\n",
              " 'up': 7,\n",
              " 'went': 26,\n",
              " 'yes': 12}"
            ]
          },
          "metadata": {
            "tags": []
          },
          "execution_count": 11
        }
      ]
    },
    {
      "cell_type": "markdown",
      "metadata": {
        "id": "zDNq-QgKjPPI"
      },
      "source": [
        "**2.2 Vectorizing Function**"
      ]
    },
    {
      "cell_type": "code",
      "metadata": {
        "id": "39tRz5M7gk4B"
      },
      "source": [
        "def vectorize(data, word_index = tokenizer.word_index, max_story_len = max_story_len, max_question_len = max_question_len):\r\n",
        "  X = [] #X = stories\r\n",
        "  Xq = [] #Xq = questions\r\n",
        "  Y = [] #Y = answer\r\n",
        "\r\n",
        "  for story, question, answer in data:\r\n",
        "    #so for each story and question, first we're lowercasing each word, then we're converting each word into its tokenized index rather than appending the string\r\n",
        "    #for example word_index['apple'] will return the token index of 3 rather than the word apple\r\n",
        "    x = [word_index[word.lower()] for word in story] #lowercase x = each individual story entry where each word is replaced by the token index\r\n",
        "    xq = [word_index[word.lower()] for word in question] #lowercase xq = each individual question entry where each word is replaced by the token index\r\n",
        "\r\n",
        "    y = np.zeros(len(word_index)+1) #+1 because index 0 is reserved when using pad sequences. So length of all the words is 37, plus padding is equal to 38\r\n",
        "    y[word_index[answer]] = 1 #so for this story, appending the answer to this word\r\n",
        "\r\n",
        "    X.append(x) #appending the stories to a list\r\n",
        "    Xq.append(xq) #appending the questions to a list\r\n",
        "    Y.append(y) #appending all the answers to the questions\r\n",
        "  \r\n",
        "  return (pad_sequences(sequences = X, maxlen = max_story_len), pad_sequences(sequences = Xq, maxlen = max_question_len), np.array(Y)) \r\n",
        "  #we imported pad_sequences above and all it does it just pad the sequences to the maximum length, such that they can all be the same size which is a requirement when feeding into our RNN. also returning our label"
      ],
      "execution_count": 12,
      "outputs": []
    },
    {
      "cell_type": "code",
      "metadata": {
        "id": "gE1kH5x4oK7w"
      },
      "source": [
        "inputs_train, queries_train, answers_train = vectorize(train_data)\r\n",
        "\r\n",
        "inputs_test, queries_test, answers_test = vectorize(test_data)"
      ],
      "execution_count": 13,
      "outputs": []
    },
    {
      "cell_type": "code",
      "metadata": {
        "colab": {
          "base_uri": "https://localhost:8080/"
        },
        "id": "r6vVtdV2o783",
        "outputId": "5ac36ccf-1822-413b-b77f-d35148fe4740"
      },
      "source": [
        "print(queries_test) #notice the questions are now replaced by their tokenized index and max length is 6. The first word for the ones in the preview is \"Is\"=3, as expected from a question \r\n",
        "print(tokenizer.word_index['the'], '= the \\n', tokenizer.word_index['bedroom'], '= bedroom \\n',tokenizer.word_index['is'], '= is')\r\n",
        "#so these are just arrays with stories outlining the word index position and word index"
      ],
      "execution_count": 14,
      "outputs": [
        {
          "output_type": "stream",
          "text": [
            "[[ 3 11  8 31 10 35]\n",
            " [ 3 11  8 31 10 35]\n",
            " [ 3 11  8 31 22 35]\n",
            " ...\n",
            " [ 3 16  8 31 27 35]\n",
            " [ 3 21  8 31 22 35]\n",
            " [ 3 16  8 31 22 35]]\n",
            "31 = the \n",
            " 27 = bedroom \n",
            " 3 = is\n"
          ],
          "name": "stdout"
        }
      ]
    },
    {
      "cell_type": "code",
      "metadata": {
        "colab": {
          "base_uri": "https://localhost:8080/"
        },
        "id": "0vb167HTpHQa",
        "outputId": "2ff471ab-07fe-4d44-a2c8-3f95aadefdf0"
      },
      "source": [
        "sum(answers_test) #so 497 cases of yes (token index 12) and 503 cases of no (token index 4)"
      ],
      "execution_count": 15,
      "outputs": [
        {
          "output_type": "execute_result",
          "data": {
            "text/plain": [
              "array([  0.,   0.,   0.,   0., 503.,   0.,   0.,   0.,   0.,   0.,   0.,\n",
              "         0., 497.,   0.,   0.,   0.,   0.,   0.,   0.,   0.,   0.,   0.,\n",
              "         0.,   0.,   0.,   0.,   0.,   0.,   0.,   0.,   0.,   0.,   0.,\n",
              "         0.,   0.,   0.,   0.,   0.])"
            ]
          },
          "metadata": {
            "tags": []
          },
          "execution_count": 15
        }
      ]
    },
    {
      "cell_type": "markdown",
      "metadata": {
        "id": "tJNHLW0tt3C2"
      },
      "source": [
        "# **Part 3 - Building the End to End Network**"
      ]
    },
    {
      "cell_type": "code",
      "metadata": {
        "id": "jk_VD6Rqqk2H"
      },
      "source": [
        "#so we have 2 inputs: stories and questions. So the encoder needs to understand the story, then a separate question, and then we have to link them together in order to provide a label (yes or no)\r\n",
        "#so first we're going to create placeholders using Input to instantiate (create an instance of) a keras tensor\r\n",
        "input_sequence = Input(shape = (max_story_len, )) #so creating an instance of Input, which was imported above.\r\n",
        "#Shape will be based off max story length and max question length, since stories & questions are our two inputs. \r\n",
        "#We added a comma, because since this is a placeholder, the shape will take in (max_story_len, batch_size) where batch_size is currently unknown, so we'll leave it TBD\r\n",
        "\r\n",
        "question = Input(shape=(max_question_len, ))"
      ],
      "execution_count": 16,
      "outputs": []
    },
    {
      "cell_type": "code",
      "metadata": {
        "colab": {
          "base_uri": "https://localhost:8080/"
        },
        "id": "WpBTRNbWwY7G",
        "outputId": "13d88b0c-3c9f-4a38-c384-d29d72237963"
      },
      "source": [
        "vocab_size #recall we defined vocab_size earlier above as the len(vocab) + 1, where the +1 is the padding the zero"
      ],
      "execution_count": 17,
      "outputs": [
        {
          "output_type": "execute_result",
          "data": {
            "text/plain": [
              "38"
            ]
          },
          "metadata": {
            "tags": []
          },
          "execution_count": 17
        }
      ]
    },
    {
      "cell_type": "markdown",
      "metadata": {
        "id": "huv3IuuswMXa"
      },
      "source": [
        "**3.1 Input Encoder, M**"
      ]
    },
    {
      "cell_type": "code",
      "metadata": {
        "id": "9SvwnB6kvw8f"
      },
      "source": [
        "input_encoder_m = Sequential()\r\n",
        "input_encoder_m.add(Embedding(input_dim = vocab_size, output_dim = 64)) #picking 64 as output based off the paper and power of 2\r\n",
        "input_encoder_m.add(Dropout(0.45)) #dropout 45% to reduce overfitting\r\n",
        "#encoder will basically output (samples, story_max_len, embedding_dim)\r\n",
        "#just made a network sequence for this encoder"
      ],
      "execution_count": 18,
      "outputs": []
    },
    {
      "cell_type": "markdown",
      "metadata": {
        "id": "sCYie-_RxEwN"
      },
      "source": [
        "**3.2 Input Encoder, C**"
      ]
    },
    {
      "cell_type": "code",
      "metadata": {
        "id": "82R5REtTxHBv"
      },
      "source": [
        "input_encoder_c = Sequential()\r\n",
        "input_encoder_c.add(Embedding(input_dim = vocab_size, output_dim = max_question_len)) \r\n",
        "input_encoder_c.add(Dropout(0.45)) #dropout 45% to reduce overfitting\r\n",
        "# encoder will basically output (samples, story_max_len, max_question_len)\r\n",
        "#just made a network sequence for this encoder"
      ],
      "execution_count": 19,
      "outputs": []
    },
    {
      "cell_type": "markdown",
      "metadata": {
        "id": "u6tVAYO0xWJr"
      },
      "source": [
        "**3.3 Question Encoder**"
      ]
    },
    {
      "cell_type": "code",
      "metadata": {
        "id": "PNK8tt0ExaP9"
      },
      "source": [
        "question_encoder = Sequential()\r\n",
        "question_encoder.add(Embedding(input_dim = vocab_size, output_dim = 64, input_length = max_question_len)) \r\n",
        "question_encoder.add(Dropout(0.45)) #dropout 45% to reduce overfitting\r\n",
        "# encoder will basically output (samples, question_max_len, embedding)\r\n",
        "#just made a network sequence for this encoder"
      ],
      "execution_count": 20,
      "outputs": []
    },
    {
      "cell_type": "markdown",
      "metadata": {
        "id": "syxVTQBCzI7R"
      },
      "source": [
        "**3.4 Encoding our Sequences**"
      ]
    },
    {
      "cell_type": "code",
      "metadata": {
        "id": "Bl5n8gNbx1AR"
      },
      "source": [
        "#Encoder(Input) --> Encoded \r\n",
        "input_encoded_m = input_encoder_m(input_sequence) #passing in that input sequence placeholder we made above into our input encoder m\r\n",
        "input_encoded_c = input_encoder_c(input_sequence) #passing in that input sequence placeholder we made above into our input encoder c\r\n",
        "question_encoded = question_encoder(question) #passing in that question sequence placeholder we made above into our question encoder"
      ],
      "execution_count": 21,
      "outputs": []
    },
    {
      "cell_type": "markdown",
      "metadata": {
        "id": "TOg72UR3ziuE"
      },
      "source": [
        "**3.5 End to End Layer**"
      ]
    },
    {
      "cell_type": "code",
      "metadata": {
        "id": "7A5F59Ihzax0"
      },
      "source": [
        "#Using a dot product to compute the match between the first input vector sequence and the question\r\n",
        "match = dot([input_encoded_m,question_encoded], axes=(2,2)) #multiplying internal question state, U, with memory state, Mi.\r\n",
        "match = Activation('softmax')(match) #so applying softmax to the product of U-tranposed and Mi to get the weights, Pi"
      ],
      "execution_count": 22,
      "outputs": []
    },
    {
      "cell_type": "code",
      "metadata": {
        "id": "AG1t06HL0gsD"
      },
      "source": [
        "response = add([match, input_encoded_c]) #calculate the weighted sum, O, by taking the product of weights, Pi, with Ci\r\n",
        "response = Permute((2,1))(response) #permuting (converting) to have an output of samples with dimensions query max length by story max length"
      ],
      "execution_count": 23,
      "outputs": []
    },
    {
      "cell_type": "code",
      "metadata": {
        "colab": {
          "base_uri": "https://localhost:8080/"
        },
        "id": "wRtvgDup1EWK",
        "outputId": "ec6703c0-a085-4959-d4fe-111800287c36"
      },
      "source": [
        "answer = concatenate([response, question_encoded]) #now we're passing weighted sum, O, plus internal question state, u, by concatenating. In just a End-to-End layer, we'd multiply it with final weight matrix, W, then pass through a softmax to get the final label. However, because we're adding an LSTM and RNN, we do that later.\r\n",
        "answer #so see how answer is a Tensorflow tensor, where the shape is (?, 6, 220) where ? = unknown batch size still,"
      ],
      "execution_count": 24,
      "outputs": [
        {
          "output_type": "execute_result",
          "data": {
            "text/plain": [
              "<KerasTensor: shape=(None, 6, 220) dtype=float32 (created by layer 'concatenate')>"
            ]
          },
          "metadata": {
            "tags": []
          },
          "execution_count": 24
        }
      ]
    },
    {
      "cell_type": "markdown",
      "metadata": {
        "id": "Nhskw4wE2bqG"
      },
      "source": [
        "**3.6 LSTM and RNN Layer**"
      ]
    },
    {
      "cell_type": "code",
      "metadata": {
        "id": "J-3xmJU41pk9"
      },
      "source": [
        "#In just a End-to-End layer, we'd multiply the concatenated answer with final weight matrix, W, then pass through a softmax to get the final label. However, because we're adding an LSTM and RNN, we do that later.\r\n",
        "answer = LSTM(32)(answer) #adding LSTM layer\r\n",
        "answer = Dropout(0.45)(answer)\r\n",
        "answer = Dense(vocab_size)(answer) #outputs in the shape of (sample, vocab_size), but we'll just see a 1 on index for yes or no, whereas the rest of the vocabularies will just be 0\r\n",
        "\r\n",
        "answer = Activation('softmax')(answer)"
      ],
      "execution_count": 25,
      "outputs": []
    },
    {
      "cell_type": "code",
      "metadata": {
        "id": "w2IWGCCF3JOY"
      },
      "source": [
        "model = Model(inputs = [input_sequence, question], outputs = answer) #creating an instance of our Model which we imported above\r\n",
        "\r\n",
        "model.compile(optimizer='rmsprop', loss='categorical_crossentropy', metrics = 'accuracy')"
      ],
      "execution_count": 26,
      "outputs": []
    },
    {
      "cell_type": "code",
      "metadata": {
        "colab": {
          "base_uri": "https://localhost:8080/"
        },
        "id": "fN1tX90o3mKi",
        "outputId": "1ae5459f-d441-4199-b7bb-13473db21244"
      },
      "source": [
        "model.summary()"
      ],
      "execution_count": 27,
      "outputs": [
        {
          "output_type": "stream",
          "text": [
            "Model: \"model\"\n",
            "__________________________________________________________________________________________________\n",
            "Layer (type)                    Output Shape         Param #     Connected to                     \n",
            "==================================================================================================\n",
            "input_1 (InputLayer)            [(None, 156)]        0                                            \n",
            "__________________________________________________________________________________________________\n",
            "input_2 (InputLayer)            [(None, 6)]          0                                            \n",
            "__________________________________________________________________________________________________\n",
            "sequential (Sequential)         (None, None, 64)     2432        input_1[0][0]                    \n",
            "__________________________________________________________________________________________________\n",
            "sequential_2 (Sequential)       (None, 6, 64)        2432        input_2[0][0]                    \n",
            "__________________________________________________________________________________________________\n",
            "dot (Dot)                       (None, 156, 6)       0           sequential[0][0]                 \n",
            "                                                                 sequential_2[0][0]               \n",
            "__________________________________________________________________________________________________\n",
            "activation (Activation)         (None, 156, 6)       0           dot[0][0]                        \n",
            "__________________________________________________________________________________________________\n",
            "sequential_1 (Sequential)       (None, None, 6)      228         input_1[0][0]                    \n",
            "__________________________________________________________________________________________________\n",
            "add (Add)                       (None, 156, 6)       0           activation[0][0]                 \n",
            "                                                                 sequential_1[0][0]               \n",
            "__________________________________________________________________________________________________\n",
            "permute (Permute)               (None, 6, 156)       0           add[0][0]                        \n",
            "__________________________________________________________________________________________________\n",
            "concatenate (Concatenate)       (None, 6, 220)       0           permute[0][0]                    \n",
            "                                                                 sequential_2[0][0]               \n",
            "__________________________________________________________________________________________________\n",
            "lstm (LSTM)                     (None, 32)           32384       concatenate[0][0]                \n",
            "__________________________________________________________________________________________________\n",
            "dropout_3 (Dropout)             (None, 32)           0           lstm[0][0]                       \n",
            "__________________________________________________________________________________________________\n",
            "dense (Dense)                   (None, 38)           1254        dropout_3[0][0]                  \n",
            "__________________________________________________________________________________________________\n",
            "activation_1 (Activation)       (None, 38)           0           dense[0][0]                      \n",
            "==================================================================================================\n",
            "Total params: 38,730\n",
            "Trainable params: 38,730\n",
            "Non-trainable params: 0\n",
            "__________________________________________________________________________________________________\n"
          ],
          "name": "stdout"
        }
      ]
    },
    {
      "cell_type": "markdown",
      "metadata": {
        "id": "hXFpMvAd4Hpr"
      },
      "source": [
        "# **Part 4 - Training our Model**"
      ]
    },
    {
      "cell_type": "markdown",
      "metadata": {
        "id": "9SWWryS16o0N"
      },
      "source": [
        "**4.1 Train the Model**"
      ]
    },
    {
      "cell_type": "code",
      "metadata": {
        "colab": {
          "base_uri": "https://localhost:8080/"
        },
        "id": "_UTeoB88324a",
        "outputId": "f29c16ea-df97-40a7-931b-c19334a35715"
      },
      "source": [
        "import time #Gonna try to keep track of how long it takes to train our model\r\n",
        "\r\n",
        "start_time = time.time()\r\n",
        "\r\n",
        "history = model.fit(x = [inputs_train, queries_train], y = answers_train, batch_size = 32, epochs = 250, validation_data = ([inputs_test, queries_test], answers_test)) #recall inputs train was our list created of the word indexes\r\n",
        "\r\n",
        "print(f'Training took {(time.time() - start_time)/60} minutes')"
      ],
      "execution_count": 28,
      "outputs": [
        {
          "output_type": "stream",
          "text": [
            "Epoch 1/250\n",
            "313/313 [==============================] - 8s 18ms/step - loss: 1.2946 - accuracy: 0.4808 - val_loss: 0.6979 - val_accuracy: 0.5030\n",
            "Epoch 2/250\n",
            "313/313 [==============================] - 5s 15ms/step - loss: 0.7079 - accuracy: 0.5133 - val_loss: 0.6947 - val_accuracy: 0.5030\n",
            "Epoch 3/250\n",
            "313/313 [==============================] - 5s 15ms/step - loss: 0.6972 - accuracy: 0.4990 - val_loss: 0.6932 - val_accuracy: 0.4970\n",
            "Epoch 4/250\n",
            "313/313 [==============================] - 5s 16ms/step - loss: 0.6947 - accuracy: 0.4960 - val_loss: 0.6947 - val_accuracy: 0.5030\n",
            "Epoch 5/250\n",
            "313/313 [==============================] - 5s 16ms/step - loss: 0.6944 - accuracy: 0.5115 - val_loss: 0.6966 - val_accuracy: 0.4970\n",
            "Epoch 6/250\n",
            "313/313 [==============================] - 5s 15ms/step - loss: 0.6945 - accuracy: 0.5005 - val_loss: 0.6933 - val_accuracy: 0.4970\n",
            "Epoch 7/250\n",
            "313/313 [==============================] - 5s 15ms/step - loss: 0.6936 - accuracy: 0.5113 - val_loss: 0.6945 - val_accuracy: 0.4970\n",
            "Epoch 8/250\n",
            "313/313 [==============================] - 5s 15ms/step - loss: 0.6942 - accuracy: 0.4981 - val_loss: 0.7011 - val_accuracy: 0.4970\n",
            "Epoch 9/250\n",
            "313/313 [==============================] - 5s 15ms/step - loss: 0.6949 - accuracy: 0.5070 - val_loss: 0.6936 - val_accuracy: 0.5150\n",
            "Epoch 10/250\n",
            "313/313 [==============================] - 5s 15ms/step - loss: 0.6940 - accuracy: 0.5094 - val_loss: 0.6983 - val_accuracy: 0.4970\n",
            "Epoch 11/250\n",
            "313/313 [==============================] - 5s 15ms/step - loss: 0.6926 - accuracy: 0.5180 - val_loss: 0.6937 - val_accuracy: 0.4950\n",
            "Epoch 12/250\n",
            "313/313 [==============================] - 5s 15ms/step - loss: 0.6886 - accuracy: 0.5249 - val_loss: 0.6888 - val_accuracy: 0.5250\n",
            "Epoch 13/250\n",
            "313/313 [==============================] - 5s 15ms/step - loss: 0.6822 - accuracy: 0.5580 - val_loss: 0.6692 - val_accuracy: 0.5970\n",
            "Epoch 14/250\n",
            "313/313 [==============================] - 5s 15ms/step - loss: 0.6697 - accuracy: 0.5898 - val_loss: 0.6449 - val_accuracy: 0.6230\n",
            "Epoch 15/250\n",
            "313/313 [==============================] - 5s 15ms/step - loss: 0.6493 - accuracy: 0.6217 - val_loss: 0.6349 - val_accuracy: 0.6160\n",
            "Epoch 16/250\n",
            "313/313 [==============================] - 5s 15ms/step - loss: 0.6414 - accuracy: 0.6364 - val_loss: 0.6193 - val_accuracy: 0.6690\n",
            "Epoch 17/250\n",
            "313/313 [==============================] - 5s 16ms/step - loss: 0.6254 - accuracy: 0.6585 - val_loss: 0.6071 - val_accuracy: 0.6640\n",
            "Epoch 18/250\n",
            "313/313 [==============================] - 5s 16ms/step - loss: 0.6205 - accuracy: 0.6609 - val_loss: 0.6232 - val_accuracy: 0.6560\n",
            "Epoch 19/250\n",
            "313/313 [==============================] - 5s 16ms/step - loss: 0.5947 - accuracy: 0.6894 - val_loss: 0.5758 - val_accuracy: 0.7080\n",
            "Epoch 20/250\n",
            "313/313 [==============================] - 5s 15ms/step - loss: 0.5971 - accuracy: 0.6861 - val_loss: 0.5544 - val_accuracy: 0.7320\n",
            "Epoch 21/250\n",
            "313/313 [==============================] - 5s 15ms/step - loss: 0.5769 - accuracy: 0.7063 - val_loss: 0.5294 - val_accuracy: 0.7430\n",
            "Epoch 22/250\n",
            "313/313 [==============================] - 5s 15ms/step - loss: 0.5552 - accuracy: 0.7192 - val_loss: 0.5060 - val_accuracy: 0.7650\n",
            "Epoch 23/250\n",
            "313/313 [==============================] - 5s 15ms/step - loss: 0.5468 - accuracy: 0.7238 - val_loss: 0.4867 - val_accuracy: 0.7620\n",
            "Epoch 24/250\n",
            "313/313 [==============================] - 5s 15ms/step - loss: 0.5278 - accuracy: 0.7470 - val_loss: 0.4710 - val_accuracy: 0.7740\n",
            "Epoch 25/250\n",
            "313/313 [==============================] - 5s 15ms/step - loss: 0.5166 - accuracy: 0.7521 - val_loss: 0.4663 - val_accuracy: 0.7810\n",
            "Epoch 26/250\n",
            "313/313 [==============================] - 5s 16ms/step - loss: 0.5071 - accuracy: 0.7598 - val_loss: 0.4567 - val_accuracy: 0.7800\n",
            "Epoch 27/250\n",
            "313/313 [==============================] - 5s 16ms/step - loss: 0.4915 - accuracy: 0.7679 - val_loss: 0.4653 - val_accuracy: 0.7730\n",
            "Epoch 28/250\n",
            "313/313 [==============================] - 5s 15ms/step - loss: 0.4915 - accuracy: 0.7699 - val_loss: 0.4537 - val_accuracy: 0.7960\n",
            "Epoch 29/250\n",
            "313/313 [==============================] - 5s 15ms/step - loss: 0.4854 - accuracy: 0.7699 - val_loss: 0.4422 - val_accuracy: 0.7960\n",
            "Epoch 30/250\n",
            "313/313 [==============================] - 5s 15ms/step - loss: 0.4771 - accuracy: 0.7729 - val_loss: 0.4453 - val_accuracy: 0.7980\n",
            "Epoch 31/250\n",
            "313/313 [==============================] - 5s 15ms/step - loss: 0.4742 - accuracy: 0.7822 - val_loss: 0.4297 - val_accuracy: 0.7870\n",
            "Epoch 32/250\n",
            "313/313 [==============================] - 5s 16ms/step - loss: 0.4696 - accuracy: 0.7804 - val_loss: 0.4450 - val_accuracy: 0.7910\n",
            "Epoch 33/250\n",
            "313/313 [==============================] - 5s 15ms/step - loss: 0.4679 - accuracy: 0.7820 - val_loss: 0.4212 - val_accuracy: 0.8020\n",
            "Epoch 34/250\n",
            "313/313 [==============================] - 5s 15ms/step - loss: 0.4518 - accuracy: 0.7947 - val_loss: 0.4362 - val_accuracy: 0.8030\n",
            "Epoch 35/250\n",
            "313/313 [==============================] - 5s 15ms/step - loss: 0.4469 - accuracy: 0.7947 - val_loss: 0.4213 - val_accuracy: 0.8100\n",
            "Epoch 36/250\n",
            "313/313 [==============================] - 5s 15ms/step - loss: 0.4393 - accuracy: 0.7979 - val_loss: 0.4227 - val_accuracy: 0.8050\n",
            "Epoch 37/250\n",
            "313/313 [==============================] - 5s 15ms/step - loss: 0.4413 - accuracy: 0.7993 - val_loss: 0.4129 - val_accuracy: 0.8090\n",
            "Epoch 38/250\n",
            "313/313 [==============================] - 5s 15ms/step - loss: 0.4250 - accuracy: 0.8042 - val_loss: 0.4157 - val_accuracy: 0.8120\n",
            "Epoch 39/250\n",
            "313/313 [==============================] - 5s 15ms/step - loss: 0.4235 - accuracy: 0.8068 - val_loss: 0.4163 - val_accuracy: 0.7990\n",
            "Epoch 40/250\n",
            "313/313 [==============================] - 5s 15ms/step - loss: 0.4066 - accuracy: 0.8148 - val_loss: 0.4066 - val_accuracy: 0.8020\n",
            "Epoch 41/250\n",
            "313/313 [==============================] - 5s 15ms/step - loss: 0.4032 - accuracy: 0.8164 - val_loss: 0.4016 - val_accuracy: 0.8080\n",
            "Epoch 42/250\n",
            "313/313 [==============================] - 5s 15ms/step - loss: 0.3887 - accuracy: 0.8226 - val_loss: 0.3865 - val_accuracy: 0.8190\n",
            "Epoch 43/250\n",
            "313/313 [==============================] - 5s 15ms/step - loss: 0.3836 - accuracy: 0.8273 - val_loss: 0.3899 - val_accuracy: 0.8250\n",
            "Epoch 44/250\n",
            "313/313 [==============================] - 5s 15ms/step - loss: 0.3831 - accuracy: 0.8253 - val_loss: 0.3755 - val_accuracy: 0.8250\n",
            "Epoch 45/250\n",
            "313/313 [==============================] - 5s 15ms/step - loss: 0.3754 - accuracy: 0.8363 - val_loss: 0.3710 - val_accuracy: 0.8240\n",
            "Epoch 46/250\n",
            "313/313 [==============================] - 5s 15ms/step - loss: 0.3687 - accuracy: 0.8347 - val_loss: 0.3734 - val_accuracy: 0.8270\n",
            "Epoch 47/250\n",
            "313/313 [==============================] - 5s 15ms/step - loss: 0.3667 - accuracy: 0.8345 - val_loss: 0.3703 - val_accuracy: 0.8320\n",
            "Epoch 48/250\n",
            "313/313 [==============================] - 5s 15ms/step - loss: 0.3619 - accuracy: 0.8389 - val_loss: 0.3659 - val_accuracy: 0.8250\n",
            "Epoch 49/250\n",
            "313/313 [==============================] - 5s 15ms/step - loss: 0.3588 - accuracy: 0.8418 - val_loss: 0.3697 - val_accuracy: 0.8270\n",
            "Epoch 50/250\n",
            "313/313 [==============================] - 5s 15ms/step - loss: 0.3467 - accuracy: 0.8458 - val_loss: 0.3586 - val_accuracy: 0.8340\n",
            "Epoch 51/250\n",
            "313/313 [==============================] - 5s 15ms/step - loss: 0.3533 - accuracy: 0.8442 - val_loss: 0.3571 - val_accuracy: 0.8320\n",
            "Epoch 52/250\n",
            "313/313 [==============================] - 5s 15ms/step - loss: 0.3474 - accuracy: 0.8438 - val_loss: 0.3678 - val_accuracy: 0.8260\n",
            "Epoch 53/250\n",
            "313/313 [==============================] - 5s 15ms/step - loss: 0.3436 - accuracy: 0.8501 - val_loss: 0.3513 - val_accuracy: 0.8390\n",
            "Epoch 54/250\n",
            "313/313 [==============================] - 5s 15ms/step - loss: 0.3382 - accuracy: 0.8494 - val_loss: 0.3536 - val_accuracy: 0.8330\n",
            "Epoch 55/250\n",
            "313/313 [==============================] - 5s 15ms/step - loss: 0.3406 - accuracy: 0.8483 - val_loss: 0.3530 - val_accuracy: 0.8340\n",
            "Epoch 56/250\n",
            "313/313 [==============================] - 5s 15ms/step - loss: 0.3384 - accuracy: 0.8489 - val_loss: 0.3600 - val_accuracy: 0.8330\n",
            "Epoch 57/250\n",
            "313/313 [==============================] - 5s 15ms/step - loss: 0.3347 - accuracy: 0.8477 - val_loss: 0.3541 - val_accuracy: 0.8320\n",
            "Epoch 58/250\n",
            "313/313 [==============================] - 5s 15ms/step - loss: 0.3313 - accuracy: 0.8493 - val_loss: 0.3633 - val_accuracy: 0.8260\n",
            "Epoch 59/250\n",
            "313/313 [==============================] - 5s 15ms/step - loss: 0.3314 - accuracy: 0.8581 - val_loss: 0.3648 - val_accuracy: 0.8360\n",
            "Epoch 60/250\n",
            "313/313 [==============================] - 5s 15ms/step - loss: 0.3404 - accuracy: 0.8441 - val_loss: 0.3970 - val_accuracy: 0.8120\n",
            "Epoch 61/250\n",
            "313/313 [==============================] - 5s 15ms/step - loss: 0.3197 - accuracy: 0.8548 - val_loss: 0.3511 - val_accuracy: 0.8320\n",
            "Epoch 62/250\n",
            "313/313 [==============================] - 5s 15ms/step - loss: 0.3288 - accuracy: 0.8505 - val_loss: 0.3582 - val_accuracy: 0.8370\n",
            "Epoch 63/250\n",
            "313/313 [==============================] - 5s 15ms/step - loss: 0.3305 - accuracy: 0.8599 - val_loss: 0.3602 - val_accuracy: 0.8250\n",
            "Epoch 64/250\n",
            "313/313 [==============================] - 5s 15ms/step - loss: 0.3189 - accuracy: 0.8609 - val_loss: 0.3587 - val_accuracy: 0.8350\n",
            "Epoch 65/250\n",
            "313/313 [==============================] - 5s 15ms/step - loss: 0.3187 - accuracy: 0.8638 - val_loss: 0.3662 - val_accuracy: 0.8300\n",
            "Epoch 66/250\n",
            "313/313 [==============================] - 5s 15ms/step - loss: 0.3262 - accuracy: 0.8562 - val_loss: 0.3497 - val_accuracy: 0.8370\n",
            "Epoch 67/250\n",
            "313/313 [==============================] - 5s 15ms/step - loss: 0.3277 - accuracy: 0.8561 - val_loss: 0.3844 - val_accuracy: 0.8230\n",
            "Epoch 68/250\n",
            "313/313 [==============================] - 5s 16ms/step - loss: 0.3276 - accuracy: 0.8602 - val_loss: 0.3625 - val_accuracy: 0.8370\n",
            "Epoch 69/250\n",
            "313/313 [==============================] - 5s 16ms/step - loss: 0.3228 - accuracy: 0.8567 - val_loss: 0.3746 - val_accuracy: 0.8240\n",
            "Epoch 70/250\n",
            "313/313 [==============================] - 5s 15ms/step - loss: 0.3189 - accuracy: 0.8590 - val_loss: 0.3546 - val_accuracy: 0.8330\n",
            "Epoch 71/250\n",
            "313/313 [==============================] - 5s 15ms/step - loss: 0.3187 - accuracy: 0.8544 - val_loss: 0.3561 - val_accuracy: 0.8370\n",
            "Epoch 72/250\n",
            "313/313 [==============================] - 5s 15ms/step - loss: 0.3145 - accuracy: 0.8621 - val_loss: 0.3514 - val_accuracy: 0.8350\n",
            "Epoch 73/250\n",
            "313/313 [==============================] - 5s 15ms/step - loss: 0.3106 - accuracy: 0.8612 - val_loss: 0.3784 - val_accuracy: 0.8320\n",
            "Epoch 74/250\n",
            "313/313 [==============================] - 5s 15ms/step - loss: 0.3199 - accuracy: 0.8588 - val_loss: 0.3664 - val_accuracy: 0.8250\n",
            "Epoch 75/250\n",
            "313/313 [==============================] - 5s 15ms/step - loss: 0.3045 - accuracy: 0.8675 - val_loss: 0.3672 - val_accuracy: 0.8210\n",
            "Epoch 76/250\n",
            "313/313 [==============================] - 5s 15ms/step - loss: 0.3048 - accuracy: 0.8632 - val_loss: 0.3744 - val_accuracy: 0.8250\n",
            "Epoch 77/250\n",
            "313/313 [==============================] - 5s 15ms/step - loss: 0.3076 - accuracy: 0.8686 - val_loss: 0.3681 - val_accuracy: 0.8350\n",
            "Epoch 78/250\n",
            "313/313 [==============================] - 5s 15ms/step - loss: 0.3100 - accuracy: 0.8660 - val_loss: 0.3608 - val_accuracy: 0.8290\n",
            "Epoch 79/250\n",
            "313/313 [==============================] - 5s 15ms/step - loss: 0.3076 - accuracy: 0.8636 - val_loss: 0.3691 - val_accuracy: 0.8370\n",
            "Epoch 80/250\n",
            "313/313 [==============================] - 5s 15ms/step - loss: 0.3089 - accuracy: 0.8648 - val_loss: 0.3629 - val_accuracy: 0.8320\n",
            "Epoch 81/250\n",
            "313/313 [==============================] - 5s 16ms/step - loss: 0.3064 - accuracy: 0.8699 - val_loss: 0.3749 - val_accuracy: 0.8350\n",
            "Epoch 82/250\n",
            "313/313 [==============================] - 5s 15ms/step - loss: 0.3095 - accuracy: 0.8578 - val_loss: 0.3822 - val_accuracy: 0.8310\n",
            "Epoch 83/250\n",
            "313/313 [==============================] - 5s 15ms/step - loss: 0.3043 - accuracy: 0.8710 - val_loss: 0.3711 - val_accuracy: 0.8270\n",
            "Epoch 84/250\n",
            "313/313 [==============================] - 5s 15ms/step - loss: 0.2965 - accuracy: 0.8686 - val_loss: 0.3649 - val_accuracy: 0.8320\n",
            "Epoch 85/250\n",
            "313/313 [==============================] - 5s 15ms/step - loss: 0.3145 - accuracy: 0.8624 - val_loss: 0.3683 - val_accuracy: 0.8260\n",
            "Epoch 86/250\n",
            "313/313 [==============================] - 5s 15ms/step - loss: 0.2997 - accuracy: 0.8707 - val_loss: 0.3829 - val_accuracy: 0.8320\n",
            "Epoch 87/250\n",
            "313/313 [==============================] - 5s 15ms/step - loss: 0.2996 - accuracy: 0.8712 - val_loss: 0.3927 - val_accuracy: 0.8300\n",
            "Epoch 88/250\n",
            "313/313 [==============================] - 5s 15ms/step - loss: 0.2988 - accuracy: 0.8661 - val_loss: 0.3853 - val_accuracy: 0.8280\n",
            "Epoch 89/250\n",
            "313/313 [==============================] - 5s 15ms/step - loss: 0.2970 - accuracy: 0.8676 - val_loss: 0.3757 - val_accuracy: 0.8260\n",
            "Epoch 90/250\n",
            "313/313 [==============================] - 5s 15ms/step - loss: 0.2887 - accuracy: 0.8682 - val_loss: 0.3869 - val_accuracy: 0.8190\n",
            "Epoch 91/250\n",
            "313/313 [==============================] - 5s 16ms/step - loss: 0.2922 - accuracy: 0.8750 - val_loss: 0.3787 - val_accuracy: 0.8310\n",
            "Epoch 92/250\n",
            "313/313 [==============================] - 5s 16ms/step - loss: 0.2964 - accuracy: 0.8703 - val_loss: 0.3858 - val_accuracy: 0.8270\n",
            "Epoch 93/250\n",
            "313/313 [==============================] - 5s 15ms/step - loss: 0.2953 - accuracy: 0.8704 - val_loss: 0.3835 - val_accuracy: 0.8250\n",
            "Epoch 94/250\n",
            "313/313 [==============================] - 5s 15ms/step - loss: 0.2996 - accuracy: 0.8691 - val_loss: 0.3924 - val_accuracy: 0.8210\n",
            "Epoch 95/250\n",
            "313/313 [==============================] - 5s 15ms/step - loss: 0.2962 - accuracy: 0.8652 - val_loss: 0.4046 - val_accuracy: 0.8280\n",
            "Epoch 96/250\n",
            "313/313 [==============================] - 5s 15ms/step - loss: 0.3066 - accuracy: 0.8640 - val_loss: 0.3978 - val_accuracy: 0.8280\n",
            "Epoch 97/250\n",
            "313/313 [==============================] - 5s 15ms/step - loss: 0.2872 - accuracy: 0.8740 - val_loss: 0.3752 - val_accuracy: 0.8310\n",
            "Epoch 98/250\n",
            "313/313 [==============================] - 5s 15ms/step - loss: 0.2993 - accuracy: 0.8723 - val_loss: 0.4135 - val_accuracy: 0.8230\n",
            "Epoch 99/250\n",
            "313/313 [==============================] - 5s 15ms/step - loss: 0.2899 - accuracy: 0.8765 - val_loss: 0.4039 - val_accuracy: 0.8240\n",
            "Epoch 100/250\n",
            "313/313 [==============================] - 5s 15ms/step - loss: 0.2921 - accuracy: 0.8689 - val_loss: 0.4116 - val_accuracy: 0.8300\n",
            "Epoch 101/250\n",
            "313/313 [==============================] - 5s 16ms/step - loss: 0.2851 - accuracy: 0.8755 - val_loss: 0.3907 - val_accuracy: 0.8280\n",
            "Epoch 102/250\n",
            "313/313 [==============================] - 5s 15ms/step - loss: 0.2910 - accuracy: 0.8751 - val_loss: 0.4134 - val_accuracy: 0.8240\n",
            "Epoch 103/250\n",
            "313/313 [==============================] - 5s 15ms/step - loss: 0.2896 - accuracy: 0.8777 - val_loss: 0.4183 - val_accuracy: 0.8180\n",
            "Epoch 104/250\n",
            "313/313 [==============================] - 5s 16ms/step - loss: 0.2858 - accuracy: 0.8781 - val_loss: 0.3900 - val_accuracy: 0.8270\n",
            "Epoch 105/250\n",
            "313/313 [==============================] - 5s 15ms/step - loss: 0.2788 - accuracy: 0.8746 - val_loss: 0.4167 - val_accuracy: 0.8210\n",
            "Epoch 106/250\n",
            "313/313 [==============================] - 5s 15ms/step - loss: 0.2872 - accuracy: 0.8758 - val_loss: 0.3893 - val_accuracy: 0.8270\n",
            "Epoch 107/250\n",
            "313/313 [==============================] - 5s 15ms/step - loss: 0.2980 - accuracy: 0.8717 - val_loss: 0.4021 - val_accuracy: 0.8300\n",
            "Epoch 108/250\n",
            "313/313 [==============================] - 5s 15ms/step - loss: 0.2796 - accuracy: 0.8834 - val_loss: 0.3987 - val_accuracy: 0.8270\n",
            "Epoch 109/250\n",
            "313/313 [==============================] - 5s 16ms/step - loss: 0.2824 - accuracy: 0.8844 - val_loss: 0.3885 - val_accuracy: 0.8270\n",
            "Epoch 110/250\n",
            "313/313 [==============================] - 5s 15ms/step - loss: 0.2959 - accuracy: 0.8688 - val_loss: 0.3958 - val_accuracy: 0.8270\n",
            "Epoch 111/250\n",
            "313/313 [==============================] - 5s 16ms/step - loss: 0.2797 - accuracy: 0.8759 - val_loss: 0.4105 - val_accuracy: 0.8270\n",
            "Epoch 112/250\n",
            "313/313 [==============================] - 5s 15ms/step - loss: 0.2753 - accuracy: 0.8841 - val_loss: 0.3954 - val_accuracy: 0.8290\n",
            "Epoch 113/250\n",
            "313/313 [==============================] - 5s 16ms/step - loss: 0.2773 - accuracy: 0.8818 - val_loss: 0.4034 - val_accuracy: 0.8330\n",
            "Epoch 114/250\n",
            "313/313 [==============================] - 5s 16ms/step - loss: 0.2767 - accuracy: 0.8817 - val_loss: 0.4325 - val_accuracy: 0.8260\n",
            "Epoch 115/250\n",
            "313/313 [==============================] - 5s 16ms/step - loss: 0.2904 - accuracy: 0.8723 - val_loss: 0.4274 - val_accuracy: 0.8350\n",
            "Epoch 116/250\n",
            "313/313 [==============================] - 5s 15ms/step - loss: 0.2730 - accuracy: 0.8878 - val_loss: 0.4047 - val_accuracy: 0.8350\n",
            "Epoch 117/250\n",
            "313/313 [==============================] - 5s 16ms/step - loss: 0.2695 - accuracy: 0.8887 - val_loss: 0.4196 - val_accuracy: 0.8310\n",
            "Epoch 118/250\n",
            "313/313 [==============================] - 5s 16ms/step - loss: 0.2836 - accuracy: 0.8794 - val_loss: 0.4624 - val_accuracy: 0.8230\n",
            "Epoch 119/250\n",
            "313/313 [==============================] - 5s 16ms/step - loss: 0.2802 - accuracy: 0.8777 - val_loss: 0.4074 - val_accuracy: 0.8290\n",
            "Epoch 120/250\n",
            "313/313 [==============================] - 5s 16ms/step - loss: 0.2713 - accuracy: 0.8813 - val_loss: 0.3992 - val_accuracy: 0.8330\n",
            "Epoch 121/250\n",
            "313/313 [==============================] - 5s 16ms/step - loss: 0.2675 - accuracy: 0.8837 - val_loss: 0.4108 - val_accuracy: 0.8340\n",
            "Epoch 122/250\n",
            "313/313 [==============================] - 5s 16ms/step - loss: 0.2743 - accuracy: 0.8834 - val_loss: 0.4286 - val_accuracy: 0.8320\n",
            "Epoch 123/250\n",
            "313/313 [==============================] - 5s 16ms/step - loss: 0.2749 - accuracy: 0.8840 - val_loss: 0.4347 - val_accuracy: 0.8280\n",
            "Epoch 124/250\n",
            "313/313 [==============================] - 5s 15ms/step - loss: 0.2686 - accuracy: 0.8866 - val_loss: 0.4254 - val_accuracy: 0.8290\n",
            "Epoch 125/250\n",
            "313/313 [==============================] - 5s 16ms/step - loss: 0.2692 - accuracy: 0.8848 - val_loss: 0.4175 - val_accuracy: 0.8230\n",
            "Epoch 126/250\n",
            "313/313 [==============================] - 5s 16ms/step - loss: 0.2741 - accuracy: 0.8812 - val_loss: 0.4422 - val_accuracy: 0.8210\n",
            "Epoch 127/250\n",
            "313/313 [==============================] - 5s 16ms/step - loss: 0.2760 - accuracy: 0.8828 - val_loss: 0.4308 - val_accuracy: 0.8200\n",
            "Epoch 128/250\n",
            "313/313 [==============================] - 5s 16ms/step - loss: 0.2700 - accuracy: 0.8859 - val_loss: 0.4223 - val_accuracy: 0.8270\n",
            "Epoch 129/250\n",
            "313/313 [==============================] - 5s 16ms/step - loss: 0.2651 - accuracy: 0.8900 - val_loss: 0.4030 - val_accuracy: 0.8190\n",
            "Epoch 130/250\n",
            "313/313 [==============================] - 5s 16ms/step - loss: 0.2698 - accuracy: 0.8879 - val_loss: 0.4413 - val_accuracy: 0.8200\n",
            "Epoch 131/250\n",
            "313/313 [==============================] - 5s 17ms/step - loss: 0.2663 - accuracy: 0.8878 - val_loss: 0.4347 - val_accuracy: 0.8230\n",
            "Epoch 132/250\n",
            "313/313 [==============================] - 5s 16ms/step - loss: 0.2653 - accuracy: 0.8836 - val_loss: 0.4273 - val_accuracy: 0.8270\n",
            "Epoch 133/250\n",
            "313/313 [==============================] - 5s 16ms/step - loss: 0.2623 - accuracy: 0.8880 - val_loss: 0.4275 - val_accuracy: 0.8220\n",
            "Epoch 134/250\n",
            "313/313 [==============================] - 5s 16ms/step - loss: 0.2714 - accuracy: 0.8837 - val_loss: 0.4127 - val_accuracy: 0.8250\n",
            "Epoch 135/250\n",
            "313/313 [==============================] - 5s 16ms/step - loss: 0.2644 - accuracy: 0.8890 - val_loss: 0.4442 - val_accuracy: 0.8190\n",
            "Epoch 136/250\n",
            "313/313 [==============================] - 5s 16ms/step - loss: 0.2770 - accuracy: 0.8844 - val_loss: 0.4908 - val_accuracy: 0.8190\n",
            "Epoch 137/250\n",
            "313/313 [==============================] - 5s 16ms/step - loss: 0.2851 - accuracy: 0.8775 - val_loss: 0.4583 - val_accuracy: 0.8240\n",
            "Epoch 138/250\n",
            "313/313 [==============================] - 5s 16ms/step - loss: 0.2706 - accuracy: 0.8859 - val_loss: 0.4205 - val_accuracy: 0.8280\n",
            "Epoch 139/250\n",
            "313/313 [==============================] - 5s 16ms/step - loss: 0.2614 - accuracy: 0.8869 - val_loss: 0.4211 - val_accuracy: 0.8310\n",
            "Epoch 140/250\n",
            "313/313 [==============================] - 5s 16ms/step - loss: 0.2665 - accuracy: 0.8876 - val_loss: 0.4663 - val_accuracy: 0.8250\n",
            "Epoch 141/250\n",
            "313/313 [==============================] - 5s 16ms/step - loss: 0.2711 - accuracy: 0.8839 - val_loss: 0.4131 - val_accuracy: 0.8290\n",
            "Epoch 142/250\n",
            "313/313 [==============================] - 5s 16ms/step - loss: 0.2534 - accuracy: 0.8913 - val_loss: 0.4224 - val_accuracy: 0.8210\n",
            "Epoch 143/250\n",
            "313/313 [==============================] - 5s 16ms/step - loss: 0.2627 - accuracy: 0.8852 - val_loss: 0.4468 - val_accuracy: 0.8240\n",
            "Epoch 144/250\n",
            "313/313 [==============================] - 5s 16ms/step - loss: 0.2633 - accuracy: 0.8853 - val_loss: 0.4277 - val_accuracy: 0.8190\n",
            "Epoch 145/250\n",
            "313/313 [==============================] - 5s 15ms/step - loss: 0.2664 - accuracy: 0.8889 - val_loss: 0.4484 - val_accuracy: 0.8240\n",
            "Epoch 146/250\n",
            "313/313 [==============================] - 5s 16ms/step - loss: 0.2564 - accuracy: 0.8925 - val_loss: 0.4210 - val_accuracy: 0.8310\n",
            "Epoch 147/250\n",
            "313/313 [==============================] - 5s 16ms/step - loss: 0.2614 - accuracy: 0.8901 - val_loss: 0.4333 - val_accuracy: 0.8190\n",
            "Epoch 148/250\n",
            "313/313 [==============================] - 5s 16ms/step - loss: 0.2606 - accuracy: 0.8899 - val_loss: 0.4929 - val_accuracy: 0.8280\n",
            "Epoch 149/250\n",
            "313/313 [==============================] - 5s 15ms/step - loss: 0.2555 - accuracy: 0.8925 - val_loss: 0.4358 - val_accuracy: 0.8310\n",
            "Epoch 150/250\n",
            "313/313 [==============================] - 5s 16ms/step - loss: 0.2796 - accuracy: 0.8821 - val_loss: 0.4426 - val_accuracy: 0.8310\n",
            "Epoch 151/250\n",
            "313/313 [==============================] - 5s 16ms/step - loss: 0.2577 - accuracy: 0.8940 - val_loss: 0.4564 - val_accuracy: 0.8250\n",
            "Epoch 152/250\n",
            "313/313 [==============================] - 5s 16ms/step - loss: 0.2582 - accuracy: 0.8937 - val_loss: 0.4570 - val_accuracy: 0.8350\n",
            "Epoch 153/250\n",
            "313/313 [==============================] - 5s 16ms/step - loss: 0.2555 - accuracy: 0.8947 - val_loss: 0.4817 - val_accuracy: 0.8210\n",
            "Epoch 154/250\n",
            "313/313 [==============================] - 5s 16ms/step - loss: 0.2543 - accuracy: 0.8943 - val_loss: 0.4361 - val_accuracy: 0.8340\n",
            "Epoch 155/250\n",
            "313/313 [==============================] - 5s 16ms/step - loss: 0.2624 - accuracy: 0.8925 - val_loss: 0.4641 - val_accuracy: 0.8230\n",
            "Epoch 156/250\n",
            "313/313 [==============================] - 5s 16ms/step - loss: 0.2442 - accuracy: 0.8993 - val_loss: 0.4467 - val_accuracy: 0.8260\n",
            "Epoch 157/250\n",
            "313/313 [==============================] - 5s 16ms/step - loss: 0.2518 - accuracy: 0.8955 - val_loss: 0.4918 - val_accuracy: 0.8180\n",
            "Epoch 158/250\n",
            "313/313 [==============================] - 5s 16ms/step - loss: 0.2604 - accuracy: 0.8915 - val_loss: 0.4754 - val_accuracy: 0.8250\n",
            "Epoch 159/250\n",
            "313/313 [==============================] - 5s 16ms/step - loss: 0.2643 - accuracy: 0.8829 - val_loss: 0.4526 - val_accuracy: 0.8370\n",
            "Epoch 160/250\n",
            "313/313 [==============================] - 5s 16ms/step - loss: 0.2591 - accuracy: 0.8896 - val_loss: 0.4657 - val_accuracy: 0.8250\n",
            "Epoch 161/250\n",
            "313/313 [==============================] - 5s 16ms/step - loss: 0.2462 - accuracy: 0.8932 - val_loss: 0.4674 - val_accuracy: 0.8300\n",
            "Epoch 162/250\n",
            "313/313 [==============================] - 5s 16ms/step - loss: 0.2487 - accuracy: 0.8952 - val_loss: 0.4486 - val_accuracy: 0.8270\n",
            "Epoch 163/250\n",
            "313/313 [==============================] - 5s 16ms/step - loss: 0.2685 - accuracy: 0.8854 - val_loss: 0.4513 - val_accuracy: 0.8240\n",
            "Epoch 164/250\n",
            "313/313 [==============================] - 5s 16ms/step - loss: 0.2580 - accuracy: 0.8943 - val_loss: 0.4447 - val_accuracy: 0.8330\n",
            "Epoch 165/250\n",
            "313/313 [==============================] - 5s 16ms/step - loss: 0.2469 - accuracy: 0.8973 - val_loss: 0.4543 - val_accuracy: 0.8270\n",
            "Epoch 166/250\n",
            "313/313 [==============================] - 5s 16ms/step - loss: 0.2440 - accuracy: 0.8973 - val_loss: 0.4520 - val_accuracy: 0.8390\n",
            "Epoch 167/250\n",
            "313/313 [==============================] - 5s 16ms/step - loss: 0.2548 - accuracy: 0.8910 - val_loss: 0.4544 - val_accuracy: 0.8280\n",
            "Epoch 168/250\n",
            "313/313 [==============================] - 5s 16ms/step - loss: 0.2460 - accuracy: 0.8988 - val_loss: 0.4708 - val_accuracy: 0.8210\n",
            "Epoch 169/250\n",
            "313/313 [==============================] - 5s 16ms/step - loss: 0.2479 - accuracy: 0.8950 - val_loss: 0.4470 - val_accuracy: 0.8250\n",
            "Epoch 170/250\n",
            "313/313 [==============================] - 5s 16ms/step - loss: 0.2470 - accuracy: 0.8980 - val_loss: 0.4829 - val_accuracy: 0.8370\n",
            "Epoch 171/250\n",
            "313/313 [==============================] - 5s 16ms/step - loss: 0.2538 - accuracy: 0.8960 - val_loss: 0.4204 - val_accuracy: 0.8280\n",
            "Epoch 172/250\n",
            "313/313 [==============================] - 5s 16ms/step - loss: 0.2569 - accuracy: 0.8929 - val_loss: 0.4748 - val_accuracy: 0.8250\n",
            "Epoch 173/250\n",
            "313/313 [==============================] - 5s 16ms/step - loss: 0.2669 - accuracy: 0.8864 - val_loss: 0.4696 - val_accuracy: 0.8290\n",
            "Epoch 174/250\n",
            "313/313 [==============================] - 5s 16ms/step - loss: 0.2519 - accuracy: 0.8940 - val_loss: 0.4677 - val_accuracy: 0.8260\n",
            "Epoch 175/250\n",
            "313/313 [==============================] - 5s 16ms/step - loss: 0.2575 - accuracy: 0.8913 - val_loss: 0.4585 - val_accuracy: 0.8310\n",
            "Epoch 176/250\n",
            "313/313 [==============================] - 5s 16ms/step - loss: 0.2407 - accuracy: 0.9003 - val_loss: 0.4529 - val_accuracy: 0.8280\n",
            "Epoch 177/250\n",
            "313/313 [==============================] - 5s 16ms/step - loss: 0.2364 - accuracy: 0.9046 - val_loss: 0.4319 - val_accuracy: 0.8360\n",
            "Epoch 178/250\n",
            "313/313 [==============================] - 5s 16ms/step - loss: 0.2464 - accuracy: 0.8932 - val_loss: 0.4738 - val_accuracy: 0.8250\n",
            "Epoch 179/250\n",
            "313/313 [==============================] - 5s 16ms/step - loss: 0.2465 - accuracy: 0.8972 - val_loss: 0.4821 - val_accuracy: 0.8370\n",
            "Epoch 180/250\n",
            "313/313 [==============================] - 5s 16ms/step - loss: 0.2507 - accuracy: 0.8958 - val_loss: 0.4214 - val_accuracy: 0.8340\n",
            "Epoch 181/250\n",
            "313/313 [==============================] - 5s 16ms/step - loss: 0.2369 - accuracy: 0.9026 - val_loss: 0.4439 - val_accuracy: 0.8340\n",
            "Epoch 182/250\n",
            "313/313 [==============================] - 5s 16ms/step - loss: 0.2503 - accuracy: 0.8995 - val_loss: 0.4420 - val_accuracy: 0.8340\n",
            "Epoch 183/250\n",
            "313/313 [==============================] - 5s 16ms/step - loss: 0.2402 - accuracy: 0.9012 - val_loss: 0.5007 - val_accuracy: 0.8220\n",
            "Epoch 184/250\n",
            "313/313 [==============================] - 5s 16ms/step - loss: 0.2383 - accuracy: 0.9027 - val_loss: 0.4630 - val_accuracy: 0.8250\n",
            "Epoch 185/250\n",
            "313/313 [==============================] - 5s 16ms/step - loss: 0.2316 - accuracy: 0.9039 - val_loss: 0.4439 - val_accuracy: 0.8260\n",
            "Epoch 186/250\n",
            "313/313 [==============================] - 5s 16ms/step - loss: 0.2385 - accuracy: 0.9017 - val_loss: 0.4179 - val_accuracy: 0.8400\n",
            "Epoch 187/250\n",
            "313/313 [==============================] - 5s 16ms/step - loss: 0.2351 - accuracy: 0.9088 - val_loss: 0.4545 - val_accuracy: 0.8350\n",
            "Epoch 188/250\n",
            "313/313 [==============================] - 5s 16ms/step - loss: 0.2287 - accuracy: 0.9052 - val_loss: 0.4185 - val_accuracy: 0.8380\n",
            "Epoch 189/250\n",
            "313/313 [==============================] - 5s 15ms/step - loss: 0.2265 - accuracy: 0.9049 - val_loss: 0.4457 - val_accuracy: 0.8420\n",
            "Epoch 190/250\n",
            "313/313 [==============================] - 5s 16ms/step - loss: 0.2347 - accuracy: 0.9052 - val_loss: 0.4444 - val_accuracy: 0.8250\n",
            "Epoch 191/250\n",
            "313/313 [==============================] - 5s 16ms/step - loss: 0.2363 - accuracy: 0.9022 - val_loss: 0.4832 - val_accuracy: 0.8350\n",
            "Epoch 192/250\n",
            "313/313 [==============================] - 5s 16ms/step - loss: 0.2402 - accuracy: 0.9041 - val_loss: 0.4245 - val_accuracy: 0.8450\n",
            "Epoch 193/250\n",
            "313/313 [==============================] - 5s 16ms/step - loss: 0.2398 - accuracy: 0.9023 - val_loss: 0.4430 - val_accuracy: 0.8400\n",
            "Epoch 194/250\n",
            "313/313 [==============================] - 5s 17ms/step - loss: 0.2297 - accuracy: 0.9063 - val_loss: 0.4254 - val_accuracy: 0.8400\n",
            "Epoch 195/250\n",
            "313/313 [==============================] - 5s 16ms/step - loss: 0.2370 - accuracy: 0.9043 - val_loss: 0.4277 - val_accuracy: 0.8410\n",
            "Epoch 196/250\n",
            "313/313 [==============================] - 5s 16ms/step - loss: 0.2314 - accuracy: 0.9075 - val_loss: 0.3943 - val_accuracy: 0.8390\n",
            "Epoch 197/250\n",
            "313/313 [==============================] - 5s 16ms/step - loss: 0.2105 - accuracy: 0.9123 - val_loss: 0.4057 - val_accuracy: 0.8370\n",
            "Epoch 198/250\n",
            "313/313 [==============================] - 5s 16ms/step - loss: 0.2304 - accuracy: 0.9049 - val_loss: 0.4110 - val_accuracy: 0.8410\n",
            "Epoch 199/250\n",
            "313/313 [==============================] - 5s 16ms/step - loss: 0.2262 - accuracy: 0.9076 - val_loss: 0.4308 - val_accuracy: 0.8440\n",
            "Epoch 200/250\n",
            "313/313 [==============================] - 5s 16ms/step - loss: 0.2161 - accuracy: 0.9103 - val_loss: 0.4107 - val_accuracy: 0.8490\n",
            "Epoch 201/250\n",
            "313/313 [==============================] - 5s 16ms/step - loss: 0.2105 - accuracy: 0.9143 - val_loss: 0.4033 - val_accuracy: 0.8460\n",
            "Epoch 202/250\n",
            "313/313 [==============================] - 5s 16ms/step - loss: 0.2162 - accuracy: 0.9119 - val_loss: 0.4226 - val_accuracy: 0.8460\n",
            "Epoch 203/250\n",
            "313/313 [==============================] - 5s 16ms/step - loss: 0.2166 - accuracy: 0.9122 - val_loss: 0.4048 - val_accuracy: 0.8460\n",
            "Epoch 204/250\n",
            "313/313 [==============================] - 5s 16ms/step - loss: 0.1990 - accuracy: 0.9167 - val_loss: 0.3810 - val_accuracy: 0.8580\n",
            "Epoch 205/250\n",
            "313/313 [==============================] - 5s 16ms/step - loss: 0.2122 - accuracy: 0.9168 - val_loss: 0.4074 - val_accuracy: 0.8480\n",
            "Epoch 206/250\n",
            "313/313 [==============================] - 5s 16ms/step - loss: 0.2007 - accuracy: 0.9202 - val_loss: 0.4105 - val_accuracy: 0.8590\n",
            "Epoch 207/250\n",
            "313/313 [==============================] - 5s 16ms/step - loss: 0.1982 - accuracy: 0.9234 - val_loss: 0.3732 - val_accuracy: 0.8680\n",
            "Epoch 208/250\n",
            "313/313 [==============================] - 5s 16ms/step - loss: 0.2071 - accuracy: 0.9146 - val_loss: 0.3724 - val_accuracy: 0.8700\n",
            "Epoch 209/250\n",
            "313/313 [==============================] - 5s 16ms/step - loss: 0.2026 - accuracy: 0.9220 - val_loss: 0.3935 - val_accuracy: 0.8610\n",
            "Epoch 210/250\n",
            "313/313 [==============================] - 5s 16ms/step - loss: 0.1973 - accuracy: 0.9247 - val_loss: 0.3747 - val_accuracy: 0.8610\n",
            "Epoch 211/250\n",
            "313/313 [==============================] - 5s 16ms/step - loss: 0.1942 - accuracy: 0.9251 - val_loss: 0.3582 - val_accuracy: 0.8620\n",
            "Epoch 212/250\n",
            "313/313 [==============================] - 5s 16ms/step - loss: 0.1966 - accuracy: 0.9260 - val_loss: 0.3714 - val_accuracy: 0.8670\n",
            "Epoch 213/250\n",
            "313/313 [==============================] - 5s 16ms/step - loss: 0.1886 - accuracy: 0.9294 - val_loss: 0.3653 - val_accuracy: 0.8680\n",
            "Epoch 214/250\n",
            "313/313 [==============================] - 5s 16ms/step - loss: 0.2028 - accuracy: 0.9192 - val_loss: 0.3668 - val_accuracy: 0.8620\n",
            "Epoch 215/250\n",
            "313/313 [==============================] - 5s 16ms/step - loss: 0.1847 - accuracy: 0.9258 - val_loss: 0.3683 - val_accuracy: 0.8660\n",
            "Epoch 216/250\n",
            "313/313 [==============================] - 5s 16ms/step - loss: 0.1961 - accuracy: 0.9247 - val_loss: 0.3352 - val_accuracy: 0.8760\n",
            "Epoch 217/250\n",
            "313/313 [==============================] - 5s 16ms/step - loss: 0.1837 - accuracy: 0.9293 - val_loss: 0.3594 - val_accuracy: 0.8750\n",
            "Epoch 218/250\n",
            "313/313 [==============================] - 5s 16ms/step - loss: 0.1857 - accuracy: 0.9275 - val_loss: 0.3501 - val_accuracy: 0.8750\n",
            "Epoch 219/250\n",
            "313/313 [==============================] - 5s 16ms/step - loss: 0.1828 - accuracy: 0.9292 - val_loss: 0.3565 - val_accuracy: 0.8710\n",
            "Epoch 220/250\n",
            "313/313 [==============================] - 5s 16ms/step - loss: 0.1637 - accuracy: 0.9396 - val_loss: 0.3280 - val_accuracy: 0.8870\n",
            "Epoch 221/250\n",
            "313/313 [==============================] - 5s 16ms/step - loss: 0.1920 - accuracy: 0.9275 - val_loss: 0.3192 - val_accuracy: 0.8930\n",
            "Epoch 222/250\n",
            "313/313 [==============================] - 5s 16ms/step - loss: 0.1804 - accuracy: 0.9299 - val_loss: 0.3234 - val_accuracy: 0.8880\n",
            "Epoch 223/250\n",
            "313/313 [==============================] - 5s 16ms/step - loss: 0.1642 - accuracy: 0.9349 - val_loss: 0.3488 - val_accuracy: 0.8800\n",
            "Epoch 224/250\n",
            "313/313 [==============================] - 5s 16ms/step - loss: 0.1667 - accuracy: 0.9369 - val_loss: 0.3436 - val_accuracy: 0.8860\n",
            "Epoch 225/250\n",
            "313/313 [==============================] - 5s 16ms/step - loss: 0.1672 - accuracy: 0.9372 - val_loss: 0.3297 - val_accuracy: 0.8920\n",
            "Epoch 226/250\n",
            "313/313 [==============================] - 5s 16ms/step - loss: 0.1778 - accuracy: 0.9279 - val_loss: 0.3159 - val_accuracy: 0.8900\n",
            "Epoch 227/250\n",
            "313/313 [==============================] - 5s 16ms/step - loss: 0.1580 - accuracy: 0.9377 - val_loss: 0.3422 - val_accuracy: 0.8860\n",
            "Epoch 228/250\n",
            "313/313 [==============================] - 5s 16ms/step - loss: 0.1637 - accuracy: 0.9389 - val_loss: 0.3227 - val_accuracy: 0.8960\n",
            "Epoch 229/250\n",
            "313/313 [==============================] - 5s 16ms/step - loss: 0.1621 - accuracy: 0.9362 - val_loss: 0.3558 - val_accuracy: 0.8790\n",
            "Epoch 230/250\n",
            "313/313 [==============================] - 5s 16ms/step - loss: 0.1730 - accuracy: 0.9362 - val_loss: 0.3718 - val_accuracy: 0.8810\n",
            "Epoch 231/250\n",
            "313/313 [==============================] - 5s 16ms/step - loss: 0.1712 - accuracy: 0.9361 - val_loss: 0.3261 - val_accuracy: 0.8830\n",
            "Epoch 232/250\n",
            "313/313 [==============================] - 5s 17ms/step - loss: 0.1663 - accuracy: 0.9376 - val_loss: 0.3646 - val_accuracy: 0.8830\n",
            "Epoch 233/250\n",
            "313/313 [==============================] - 5s 16ms/step - loss: 0.1725 - accuracy: 0.9364 - val_loss: 0.3053 - val_accuracy: 0.8770\n",
            "Epoch 234/250\n",
            "313/313 [==============================] - 5s 16ms/step - loss: 0.1585 - accuracy: 0.9384 - val_loss: 0.3213 - val_accuracy: 0.8940\n",
            "Epoch 235/250\n",
            "313/313 [==============================] - 5s 16ms/step - loss: 0.1545 - accuracy: 0.9451 - val_loss: 0.3506 - val_accuracy: 0.8840\n",
            "Epoch 236/250\n",
            "313/313 [==============================] - 5s 16ms/step - loss: 0.1592 - accuracy: 0.9357 - val_loss: 0.3479 - val_accuracy: 0.8850\n",
            "Epoch 237/250\n",
            "313/313 [==============================] - 5s 16ms/step - loss: 0.1615 - accuracy: 0.9427 - val_loss: 0.3290 - val_accuracy: 0.8880\n",
            "Epoch 238/250\n",
            "313/313 [==============================] - 5s 16ms/step - loss: 0.1518 - accuracy: 0.9441 - val_loss: 0.3193 - val_accuracy: 0.8910\n",
            "Epoch 239/250\n",
            "313/313 [==============================] - 5s 16ms/step - loss: 0.1795 - accuracy: 0.9367 - val_loss: 0.3298 - val_accuracy: 0.8900\n",
            "Epoch 240/250\n",
            "313/313 [==============================] - 5s 16ms/step - loss: 0.1702 - accuracy: 0.9389 - val_loss: 0.3029 - val_accuracy: 0.8880\n",
            "Epoch 241/250\n",
            "313/313 [==============================] - 5s 16ms/step - loss: 0.1497 - accuracy: 0.9440 - val_loss: 0.3199 - val_accuracy: 0.9000\n",
            "Epoch 242/250\n",
            "313/313 [==============================] - 5s 16ms/step - loss: 0.1607 - accuracy: 0.9389 - val_loss: 0.3040 - val_accuracy: 0.8990\n",
            "Epoch 243/250\n",
            "313/313 [==============================] - 5s 16ms/step - loss: 0.1495 - accuracy: 0.9467 - val_loss: 0.3007 - val_accuracy: 0.8940\n",
            "Epoch 244/250\n",
            "313/313 [==============================] - 5s 16ms/step - loss: 0.1602 - accuracy: 0.9421 - val_loss: 0.3030 - val_accuracy: 0.8980\n",
            "Epoch 245/250\n",
            "313/313 [==============================] - 5s 16ms/step - loss: 0.1627 - accuracy: 0.9403 - val_loss: 0.3173 - val_accuracy: 0.8960\n",
            "Epoch 246/250\n",
            "313/313 [==============================] - 5s 16ms/step - loss: 0.1533 - accuracy: 0.9423 - val_loss: 0.3170 - val_accuracy: 0.8960\n",
            "Epoch 247/250\n",
            "313/313 [==============================] - 5s 16ms/step - loss: 0.1446 - accuracy: 0.9446 - val_loss: 0.2981 - val_accuracy: 0.9020\n",
            "Epoch 248/250\n",
            "313/313 [==============================] - 5s 16ms/step - loss: 0.1552 - accuracy: 0.9446 - val_loss: 0.3449 - val_accuracy: 0.8780\n",
            "Epoch 249/250\n",
            "313/313 [==============================] - 5s 16ms/step - loss: 0.1400 - accuracy: 0.9497 - val_loss: 0.3254 - val_accuracy: 0.8860\n",
            "Epoch 250/250\n",
            "313/313 [==============================] - 5s 16ms/step - loss: 0.1504 - accuracy: 0.9431 - val_loss: 0.3265 - val_accuracy: 0.8990\n",
            "Training took 20.430507822831473 minutes\n"
          ],
          "name": "stdout"
        }
      ]
    },
    {
      "cell_type": "markdown",
      "metadata": {
        "id": "2Z7mmZTW6sGc"
      },
      "source": [
        "**4.2 Save the Model**"
      ]
    },
    {
      "cell_type": "code",
      "metadata": {
        "id": "UlUrAmQY8Bcq"
      },
      "source": [
        "filename = 'my_chatbot_250_epochs.h5'\r\n",
        "model.save(filename)"
      ],
      "execution_count": 29,
      "outputs": []
    },
    {
      "cell_type": "markdown",
      "metadata": {
        "id": "_FUPbA4E62Yu"
      },
      "source": [
        "# **Part 5 - Evaluating the Model**"
      ]
    },
    {
      "cell_type": "markdown",
      "metadata": {
        "id": "s27gXP2D650I"
      },
      "source": [
        "**5.1 Plotting Out Training History**"
      ]
    },
    {
      "cell_type": "code",
      "metadata": {
        "colab": {
          "base_uri": "https://localhost:8080/",
          "height": 312
        },
        "id": "_XJdmkOD60OA",
        "outputId": "09df2abf-fefd-46ed-87e0-ea13299ddda4"
      },
      "source": [
        "import matplotlib.pyplot as plt\r\n",
        "%matplotlib inline\r\n",
        "print(history.history.keys())\r\n",
        "# summarize history for accuracy\r\n",
        "plt.plot(history.history['accuracy'])\r\n",
        "plt.plot(history.history['val_accuracy'])\r\n",
        "plt.title('model accuracy')\r\n",
        "plt.ylabel('accuracy')\r\n",
        "plt.xlabel('epoch')\r\n",
        "plt.legend(['train', 'test'], loc='upper left')\r\n",
        "plt.show()"
      ],
      "execution_count": 30,
      "outputs": [
        {
          "output_type": "stream",
          "text": [
            "dict_keys(['loss', 'accuracy', 'val_loss', 'val_accuracy'])\n"
          ],
          "name": "stdout"
        },
        {
          "output_type": "display_data",
          "data": {
            "image/png": "[encoded data removed]",
            "text/plain": [
              "<Figure size 432x288 with 1 Axes>"
            ]
          },
          "metadata": {
            "tags": [],
            "needs_background": "light"
          }
        }
      ]
    },
    {
      "cell_type": "markdown",
      "metadata": {
        "id": "rdYqtiV_8Nm-"
      },
      "source": [
        "**5.2 Loading The Model**"
      ]
    },
    {
      "cell_type": "code",
      "metadata": {
        "id": "UE8akYIe-wPI"
      },
      "source": [
        "model.load_weights('my_chatbot_250_epochs.h5')"
      ],
      "execution_count": 31,
      "outputs": []
    },
    {
      "cell_type": "markdown",
      "metadata": {
        "id": "GkO60OaC7jxx"
      },
      "source": [
        "**5.3 Evaluating on Given Test Set**"
      ]
    },
    {
      "cell_type": "code",
      "metadata": {
        "id": "5siYkITy6_Bh"
      },
      "source": [
        "pred_results = model.predict(([inputs_test, queries_test])) #passing in our two test inputs"
      ],
      "execution_count": 32,
      "outputs": []
    },
    {
      "cell_type": "code",
      "metadata": {
        "colab": {
          "base_uri": "https://localhost:8080/"
        },
        "id": "P6b20CPh81me",
        "outputId": "c534574b-0331-444e-cf16-15cefdd9ad86"
      },
      "source": [
        "print(' '.join(test_data[0][0])) #recall entry 0, index 0 is the first story\r\n",
        "print(' '.join(test_data[0][1])) #recall entry 0, index 1 is the first question\r\n",
        "print(test_data[0][2]) #recall entry 0, index 2 is first answer"
      ],
      "execution_count": 33,
      "outputs": [
        {
          "output_type": "stream",
          "text": [
            "Mary got the milk there . John moved to the bedroom .\n",
            "Is John in the kitchen ?\n",
            "no\n"
          ],
          "name": "stdout"
        }
      ]
    },
    {
      "cell_type": "code",
      "metadata": {
        "colab": {
          "base_uri": "https://localhost:8080/"
        },
        "id": "N7_l98px9Cdc",
        "outputId": "ee4f3696-376e-4801-f066-0953846ef344"
      },
      "source": [
        "print(pred_results[0]) #notice how it has probabilities for every word, not just yes and no\r\n",
        "print(pred_results.shape) #so see the 37 vocab words + 1 for padding, all 37 vocab words have a probability (close to 0 tho except for yes and no)"
      ],
      "execution_count": 34,
      "outputs": [
        {
          "output_type": "stream",
          "text": [
            "[3.0161626e-17 3.5168613e-17 3.8314351e-17 2.9720646e-17 9.9967730e-01\n",
            " 2.5605263e-17 2.5219640e-17 2.9729265e-17 2.4174977e-17 2.7764790e-17\n",
            " 3.3919004e-17 3.3250646e-17 3.2268927e-04 3.0361684e-17 3.2819039e-17\n",
            " 2.6714688e-17 3.1879640e-17 2.7216659e-17 3.0434853e-17 2.9166706e-17\n",
            " 2.5730495e-17 2.6649648e-17 3.1609354e-17 2.7160859e-17 3.3457530e-17\n",
            " 2.8102363e-17 2.7457551e-17 2.9897924e-17 3.0924749e-17 3.5755842e-17\n",
            " 3.3182727e-17 2.9424297e-17 2.8695355e-17 3.4550543e-17 2.6811369e-17\n",
            " 3.9472414e-17 3.1940259e-17 3.1847794e-17]\n",
            "(1000, 38)\n"
          ],
          "name": "stdout"
        }
      ]
    },
    {
      "cell_type": "code",
      "metadata": {
        "colab": {
          "base_uri": "https://localhost:8080/",
          "height": 35
        },
        "id": "LBWssXoW9i1B",
        "outputId": "6e3d05ee-a0e5-4c02-fcf6-4451b3bff8d8"
      },
      "source": [
        "val_max = np.argmax(pred_results[0])\r\n",
        "\r\n",
        "for key,val in tokenizer.word_index.items():\r\n",
        "  #just grabbing the key (word index) and val (word) from the dictionary given by .word_index\r\n",
        "  if val == val_max:\r\n",
        "    k = key\r\n",
        "\r\n",
        "k"
      ],
      "execution_count": 35,
      "outputs": [
        {
          "output_type": "execute_result",
          "data": {
            "application/vnd.google.colaboratory.intrinsic+json": {
              "type": "string"
            },
            "text/plain": [
              "'no'"
            ]
          },
          "metadata": {
            "tags": []
          },
          "execution_count": 35
        }
      ]
    },
    {
      "cell_type": "code",
      "metadata": {
        "colab": {
          "base_uri": "https://localhost:8080/"
        },
        "id": "D271nMNU-FU6",
        "outputId": "251dc9f4-274a-4708-cd1d-d6e0c5ed675f"
      },
      "source": [
        "pred_results[0][val_max] #so it was 99.9% sure the answer was no"
      ],
      "execution_count": 36,
      "outputs": [
        {
          "output_type": "execute_result",
          "data": {
            "text/plain": [
              "0.9996773"
            ]
          },
          "metadata": {
            "tags": []
          },
          "execution_count": 36
        }
      ]
    },
    {
      "cell_type": "markdown",
      "metadata": {
        "id": "ZQwiZPd--c9E"
      },
      "source": [
        "**5.4 Testing on Our Own Story**"
      ]
    },
    {
      "cell_type": "markdown",
      "metadata": {
        "id": "Kg03K67zVTkL"
      },
      "source": [
        "5.4.1 Story 1"
      ]
    },
    {
      "cell_type": "code",
      "metadata": {
        "colab": {
          "base_uri": "https://localhost:8080/"
        },
        "id": "9h9KHiyC-Uis",
        "outputId": "4840d03c-6a1e-48c6-8730-23de773e47e5"
      },
      "source": [
        "my_story = \"John travelled to the office . Sandra discarded the apple in the kitchen .\"\r\n",
        "my_story = my_story.split() #now splitting up each word in my_story\r\n",
        "print(my_story)\r\n",
        "#print(' '.join(my_story)) "
      ],
      "execution_count": 76,
      "outputs": [
        {
          "output_type": "stream",
          "text": [
            "['John', 'travelled', 'to', 'the', 'office', '.', 'Sandra', 'discarded', 'the', 'apple', 'in', 'the', 'kitchen', '.']\n"
          ],
          "name": "stdout"
        }
      ]
    },
    {
      "cell_type": "code",
      "metadata": {
        "colab": {
          "base_uri": "https://localhost:8080/"
        },
        "id": "AkTeBSYo-yJY",
        "outputId": "8cc1df1a-0938-4c7f-a6a5-643c9504c9d5"
      },
      "source": [
        "my_question = \"Is Sandra in the office ?\"\r\n",
        "my_question = my_question.split()\r\n",
        "my_question"
      ],
      "execution_count": 77,
      "outputs": [
        {
          "output_type": "execute_result",
          "data": {
            "text/plain": [
              "['Is', 'Sandra', 'in', 'the', 'office', '?']"
            ]
          },
          "metadata": {
            "tags": []
          },
          "execution_count": 77
        }
      ]
    },
    {
      "cell_type": "code",
      "metadata": {
        "id": "YZlicje9-2k4"
      },
      "source": [
        "mydata = [(my_story, my_question, 'yes')] #so now adding our story, question, and label into one list"
      ],
      "execution_count": 78,
      "outputs": []
    },
    {
      "cell_type": "code",
      "metadata": {
        "colab": {
          "base_uri": "https://localhost:8080/"
        },
        "id": "7KsQCFZT_VcK",
        "outputId": "8e6190d0-c285-4c0b-973f-37a57f33ba16"
      },
      "source": [
        "my_story, my_ques, my_ans = vectorize(mydata) #utilizing our vectorize function from above to vectorize our story, question, and answer\r\n",
        "\r\n",
        "my_story #see it's the story replaced with the word indexes, also padded by 0s to meet the max length"
      ],
      "execution_count": 79,
      "outputs": [
        {
          "output_type": "execute_result",
          "data": {
            "text/plain": [
              "array([[ 0,  0,  0,  0,  0,  0,  0,  0,  0,  0,  0,  0,  0,  0,  0,  0,\n",
              "         0,  0,  0,  0,  0,  0,  0,  0,  0,  0,  0,  0,  0,  0,  0,  0,\n",
              "         0,  0,  0,  0,  0,  0,  0,  0,  0,  0,  0,  0,  0,  0,  0,  0,\n",
              "         0,  0,  0,  0,  0,  0,  0,  0,  0,  0,  0,  0,  0,  0,  0,  0,\n",
              "         0,  0,  0,  0,  0,  0,  0,  0,  0,  0,  0,  0,  0,  0,  0,  0,\n",
              "         0,  0,  0,  0,  0,  0,  0,  0,  0,  0,  0,  0,  0,  0,  0,  0,\n",
              "         0,  0,  0,  0,  0,  0,  0,  0,  0,  0,  0,  0,  0,  0,  0,  0,\n",
              "         0,  0,  0,  0,  0,  0,  0,  0,  0,  0,  0,  0,  0,  0,  0,  0,\n",
              "         0,  0,  0,  0,  0,  0,  0,  0,  0,  0,  0,  0,  0,  0, 11, 28,\n",
              "        17, 31, 23,  5, 21, 18, 31, 32,  8, 31, 10,  5]], dtype=int32)"
            ]
          },
          "metadata": {
            "tags": []
          },
          "execution_count": 79
        }
      ]
    },
    {
      "cell_type": "code",
      "metadata": {
        "colab": {
          "base_uri": "https://localhost:8080/"
        },
        "id": "OcKqVMUX_kDI",
        "outputId": "70576045-a12c-43a5-9aa0-f27e455c229b"
      },
      "source": [
        "pred_results = model.predict(([my_story, my_ques])) #passing in our two test inputs\r\n",
        "\r\n",
        "val_max = np.argmax(pred_results[0])\r\n",
        "\r\n",
        "for key,val in tokenizer.word_index.items():\r\n",
        "  #just grabbing the key (word index) and val (word) from the dictionary given by .word_index\r\n",
        "  if val == val_max:\r\n",
        "    k = key\r\n",
        "\r\n",
        "print(f\"{k} with a {pred_results[0][val_max]*100} probability\") #so it was 99.99% sure the answer was no\""
      ],
      "execution_count": 80,
      "outputs": [
        {
          "output_type": "stream",
          "text": [
            "no with a 99.99819993972778 probability\n"
          ],
          "name": "stdout"
        }
      ]
    },
    {
      "cell_type": "markdown",
      "metadata": {
        "id": "V0X32zANVXV9"
      },
      "source": [
        "5.4.2 Story 2"
      ]
    },
    {
      "cell_type": "code",
      "metadata": {
        "id": "YS7TkA_M_4j6",
        "colab": {
          "base_uri": "https://localhost:8080/"
        },
        "outputId": "c84c662f-0efd-41ab-8062-6d8736e3a4e2"
      },
      "source": [
        "my_story2 = \"Daniel journeyed to the bedroom . Mary grabbed the football in the office .\"\r\n",
        "my_story2 = my_story2.split() #now splitting up each word in my_story\r\n",
        "\r\n",
        "my_question2 = \"Is the football in the office ?\"\r\n",
        "my_question2 = my_question2.split()\r\n",
        "\r\n",
        "mydata2 = [(my_story2, my_question2, 'yes')] #so now adding our story, question, and label into one list\r\n",
        "\r\n",
        "my_story2, my_ques2, my_ans2 = vectorize(mydata2) #utilizing our vectorize function from above to vectorize our story, question, and answer\r\n",
        "\r\n",
        "pred_results = model.predict(([my_story2, my_ques2])) #passing in our two test inputs\r\n",
        "\r\n",
        "val_max = np.argmax(pred_results[0])\r\n",
        "\r\n",
        "for key,val in tokenizer.word_index.items():\r\n",
        "  #just grabbing the key (word index) and val (word) from the dictionary given by .word_index\r\n",
        "  if val == val_max:\r\n",
        "    k = key\r\n",
        "\r\n",
        "print(f\"{k} with a {pred_results[0][val_max]*100} probability\") #so it was 53.7% sure the answer was yes\""
      ],
      "execution_count": 59,
      "outputs": [
        {
          "output_type": "stream",
          "text": [
            "yes with a 53.699856996536255 probability\n"
          ],
          "name": "stdout"
        }
      ]
    },
    {
      "cell_type": "markdown",
      "metadata": {
        "id": "pe8SC8m6WlgX"
      },
      "source": [
        "5.4.3 Story 3"
      ]
    },
    {
      "cell_type": "code",
      "metadata": {
        "colab": {
          "base_uri": "https://localhost:8080/"
        },
        "id": "IfeRc5_mVcMD",
        "outputId": "06177171-ce27-4e6f-eba1-3f4e34227c37"
      },
      "source": [
        "my_story3 = \"Sandra is in the hallway . Daniel picked up apple in the garden .\"\r\n",
        "my_story3 = my_story3.split() #now splitting up each word in my_story\r\n",
        "\r\n",
        "my_question3 = \"Is the apple in the hallway ?\"\r\n",
        "my_question3 = my_question3.split()\r\n",
        "\r\n",
        "mydata3 = [(my_story3, my_question3, 'no')] #so now adding our story, question, and label into one list\r\n",
        "\r\n",
        "my_story3, my_ques3, my_ans3 = vectorize(mydata3) #utilizing our vectorize function from above to vectorize our story, question, and answer\r\n",
        "\r\n",
        "pred_results = model.predict(([my_story3, my_ques3])) #passing in our two test inputs\r\n",
        "\r\n",
        "val_max = np.argmax(pred_results[0])\r\n",
        "\r\n",
        "for key,val in tokenizer.word_index.items():\r\n",
        "  #just grabbing the key (word index) and val (word) from the dictionary given by .word_index\r\n",
        "  if val == val_max:\r\n",
        "    k = key\r\n",
        "\r\n",
        "print(f\"{k} with a {pred_results[0][val_max]*100} probability\") #so it was 99% sure the answer was no\""
      ],
      "execution_count": 72,
      "outputs": [
        {
          "output_type": "stream",
          "text": [
            "no with a 99.92278814315796 probability\n"
          ],
          "name": "stdout"
        }
      ]
    },
    {
      "cell_type": "code",
      "metadata": {
        "id": "ZvM_zoJBXy43"
      },
      "source": [
        ""
      ],
      "execution_count": null,
      "outputs": []
    }
  ]
}
